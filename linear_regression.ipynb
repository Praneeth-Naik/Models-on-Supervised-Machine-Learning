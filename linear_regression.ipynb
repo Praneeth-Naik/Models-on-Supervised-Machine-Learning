{
 "cells": [
  {
   "cell_type": "code",
   "execution_count": 35,
   "metadata": {},
   "outputs": [],
   "source": [
    "import numpy as np\n",
    "import pandas as pd\n",
    "import math"
   ]
  },
  {
   "cell_type": "code",
   "execution_count": 36,
   "metadata": {},
   "outputs": [],
   "source": [
    "df = pd.read_csv('/home/praneeth/Desktop/ACM/aiml/Models/Salary_dataset.csv')"
   ]
  },
  {
   "cell_type": "code",
   "execution_count": 37,
   "metadata": {},
   "outputs": [],
   "source": [
    "X_train = df['YearsExperience'].values.reshape(-1, 1)\n",
    "y_train = df['Salary'].values"
   ]
  },
  {
   "cell_type": "code",
   "execution_count": 38,
   "metadata": {},
   "outputs": [
    {
     "name": "stdout",
     "output_type": "stream",
     "text": [
      "X Shape: (30, 1), X Type:<class 'numpy.ndarray'>\n",
      "[[ 1.2]\n",
      " [ 1.4]\n",
      " [ 1.6]\n",
      " [ 2.1]\n",
      " [ 2.3]\n",
      " [ 3. ]\n",
      " [ 3.1]\n",
      " [ 3.3]\n",
      " [ 3.3]\n",
      " [ 3.8]\n",
      " [ 4. ]\n",
      " [ 4.1]\n",
      " [ 4.1]\n",
      " [ 4.2]\n",
      " [ 4.6]\n",
      " [ 5. ]\n",
      " [ 5.2]\n",
      " [ 5.4]\n",
      " [ 6. ]\n",
      " [ 6.1]\n",
      " [ 6.9]\n",
      " [ 7.2]\n",
      " [ 8. ]\n",
      " [ 8.3]\n",
      " [ 8.8]\n",
      " [ 9.1]\n",
      " [ 9.6]\n",
      " [ 9.7]\n",
      " [10.4]\n",
      " [10.6]]\n",
      "y Shape: (30,), y Type:<class 'numpy.ndarray'>\n",
      "[ 39344.  46206.  37732.  43526.  39892.  56643.  60151.  54446.  64446.\n",
      "  57190.  63219.  55795.  56958.  57082.  61112.  67939.  66030.  83089.\n",
      "  81364.  93941.  91739.  98274. 101303. 113813. 109432. 105583. 116970.\n",
      " 112636. 122392. 121873.]\n"
     ]
    }
   ],
   "source": [
    "print(f\"X Shape: {X_train.shape}, X Type:{type(X_train)}\")\n",
    "print(X_train)\n",
    "print(f\"y Shape: {y_train.shape}, y Type:{type(y_train)}\")\n",
    "print(y_train)"
   ]
  },
  {
   "cell_type": "code",
   "execution_count": 39,
   "metadata": {},
   "outputs": [
    {
     "name": "stdout",
     "output_type": "stream",
     "text": [
      "30 1\n"
     ]
    }
   ],
   "source": [
    "m,n = X_train.shape\n",
    "print(m,n)"
   ]
  },
  {
   "cell_type": "code",
   "execution_count": 40,
   "metadata": {},
   "outputs": [],
   "source": [
    "def zscore_normalize_features(X):\n",
    "    mu = np.mean(X, axis=0)\n",
    "    sigma  = np.std(X, axis=0)  \n",
    "    X_norm = (X - mu) / sigma\n",
    "    return (X_norm, mu, sigma)"
   ]
  },
  {
   "cell_type": "code",
   "execution_count": 41,
   "metadata": {},
   "outputs": [
    {
     "name": "stdout",
     "output_type": "stream",
     "text": [
      "X_norm = [[-1.51005294]\n",
      " [-1.43837321]\n",
      " [-1.36669348]\n",
      " [-1.18749416]\n",
      " [-1.11581443]\n",
      " [-0.86493538]\n",
      " [-0.82909552]\n",
      " [-0.75741579]\n",
      " [-0.75741579]\n",
      " [-0.57821647]\n",
      " [-0.50653674]\n",
      " [-0.47069688]\n",
      " [-0.47069688]\n",
      " [-0.43485702]\n",
      " [-0.29149756]\n",
      " [-0.1481381 ]\n",
      " [-0.07645838]\n",
      " [-0.00477865]\n",
      " [ 0.21026054]\n",
      " [ 0.2461004 ]\n",
      " [ 0.53281931]\n",
      " [ 0.6403389 ]\n",
      " [ 0.92705781]\n",
      " [ 1.03457741]\n",
      " [ 1.21377673]\n",
      " [ 1.32129632]\n",
      " [ 1.50049564]\n",
      " [ 1.5363355 ]\n",
      " [ 1.78721455]\n",
      " [ 1.85889428]]\n"
     ]
    }
   ],
   "source": [
    "X_norm, X_mu, X_sigma = zscore_normalize_features(X_train)\n",
    "print(f\"X_norm = {X_norm}\")"
   ]
  },
  {
   "cell_type": "code",
   "execution_count": 42,
   "metadata": {},
   "outputs": [],
   "source": [
    "w_init = np.zeros(np.shape(X_norm[0]))\n",
    "b_init = 0"
   ]
  },
  {
   "cell_type": "code",
   "execution_count": 43,
   "metadata": {},
   "outputs": [],
   "source": [
    "def compute_cost(X, y, w, b):\n",
    "    m = X.shape[0]\n",
    "    cost = 0.0\n",
    "    for i in range(m):                                \n",
    "        f_wb_i = np.dot(X[i], w) + b           \n",
    "        cost = cost + (f_wb_i - y[i])**2      \n",
    "    cost = float(cost / (2 * m))                      \n",
    "    return cost"
   ]
  },
  {
   "cell_type": "code",
   "execution_count": 44,
   "metadata": {},
   "outputs": [
    {
     "name": "stdout",
     "output_type": "stream",
     "text": [
      "Cost at chosen w and b: 3251553638.866667\n"
     ]
    }
   ],
   "source": [
    "cost = compute_cost(X_norm, y_train, w_init, b_init)\n",
    "print(f'Cost at chosen w and b: {cost}')"
   ]
  },
  {
   "cell_type": "code",
   "execution_count": 45,
   "metadata": {},
   "outputs": [],
   "source": [
    "def compute_gradient(X, y, w, b): \n",
    "    m,n = X.shape\n",
    "    dj_dw = np.zeros((n,))\n",
    "    dj_db = 0.\n",
    "\n",
    "    for i in range(m):                             \n",
    "        err = (np.dot(X[i], w) + b) - y[i]   \n",
    "        for j in range(n):                         \n",
    "            dj_dw[j] = dj_dw[j] + err * X[i, j]    \n",
    "        dj_db = dj_db + err                        \n",
    "    dj_dw = dj_dw / m                                \n",
    "    dj_db = dj_db / m                                \n",
    "        \n",
    "    return dj_db, dj_dw"
   ]
  },
  {
   "cell_type": "code",
   "execution_count": 46,
   "metadata": {},
   "outputs": [
    {
     "name": "stdout",
     "output_type": "stream",
     "text": [
      "dj_db at initial w,b: -76004.0\n",
      "dj_dw at initial w,b: \n",
      " [-26367.18244354]\n"
     ]
    }
   ],
   "source": [
    "tmp_dj_db, tmp_dj_dw = compute_gradient(X_norm, y_train, w_init, b_init)\n",
    "print(f'dj_db at initial w,b: {tmp_dj_db}')\n",
    "print(f'dj_dw at initial w,b: \\n {tmp_dj_dw}')"
   ]
  },
  {
   "cell_type": "code",
   "execution_count": 47,
   "metadata": {},
   "outputs": [],
   "source": [
    "def gradient_descent(X, y, w_in, b_in, cost_function, gradient_function, alpha, num_iters):\n",
    "    J_history = []\n",
    "    w = w_in[0:]\n",
    "    b = b_in\n",
    "    \n",
    "    for i in range(num_iters):\n",
    "\n",
    "        dj_db,dj_dw = gradient_function(X, y, w, b)\n",
    "\n",
    "        w = w - alpha * dj_dw\n",
    "        b = b - alpha * dj_db\n",
    "      \n",
    "        if i<100000:                                    \n",
    "            J_history.append( cost_function(X, y, w, b))\n",
    "\n",
    "        if i% math.ceil(num_iters / 10) == 0:          \n",
    "            print(f\"Iteration {i}: Cost {J_history[-1]}   \")\n",
    "        \n",
    "    return w, b, J_history"
   ]
  },
  {
   "cell_type": "code",
   "execution_count": 48,
   "metadata": {},
   "outputs": [
    {
     "name": "stdout",
     "output_type": "stream",
     "text": [
      "Iteration 0: Cost 3247024939.0383587   \n",
      "Iteration 5000: Cost 18574907.82803046   \n",
      "Iteration 10000: Cost 15638149.714102622   \n",
      "Iteration 15000: Cost 15635478.293409612   \n",
      "Iteration 20000: Cost 15635475.86335299   \n",
      "Iteration 25000: Cost 15635475.861142488   \n",
      "Iteration 30000: Cost 15635475.861140477   \n",
      "Iteration 35000: Cost 15635475.861140478   \n",
      "Iteration 40000: Cost 15635475.861140477   \n",
      "Iteration 45000: Cost 15635475.861140477   \n",
      "b,w found by gradient descent: 76004.00, [26367.18244354]\n",
      "prediction: 36188.16, target value: 39344.0\n",
      "prediction: 38078.15, target value: 46206.0\n",
      "prediction: 39968.14, target value: 37732.0\n",
      "prediction: 44693.12, target value: 43526.0\n",
      "prediction: 46583.12, target value: 39892.0\n",
      "prediction: 53198.09, target value: 56643.0\n",
      "prediction: 54143.09, target value: 60151.0\n",
      "prediction: 56033.08, target value: 54446.0\n",
      "prediction: 56033.08, target value: 64446.0\n",
      "prediction: 60758.06, target value: 57190.0\n",
      "prediction: 62648.05, target value: 63219.0\n",
      "prediction: 63593.05, target value: 55795.0\n",
      "prediction: 63593.05, target value: 56958.0\n",
      "prediction: 64538.05, target value: 57082.0\n",
      "prediction: 68318.03, target value: 61112.0\n",
      "prediction: 72098.02, target value: 67939.0\n",
      "prediction: 73988.01, target value: 66030.0\n",
      "prediction: 75878.00, target value: 83089.0\n",
      "prediction: 81547.98, target value: 81364.0\n",
      "prediction: 82492.97, target value: 93941.0\n",
      "prediction: 90052.94, target value: 91739.0\n",
      "prediction: 92887.93, target value: 98274.0\n",
      "prediction: 100447.90, target value: 101303.0\n",
      "prediction: 103282.89, target value: 113813.0\n",
      "prediction: 108007.87, target value: 109432.0\n",
      "prediction: 110842.86, target value: 105583.0\n",
      "prediction: 115567.84, target value: 116970.0\n",
      "prediction: 116512.84, target value: 112636.0\n",
      "prediction: 123127.81, target value: 122392.0\n",
      "prediction: 125017.80, target value: 121873.0\n"
     ]
    }
   ],
   "source": [
    "initial_w = np.zeros(np.shape(X_norm[0]))\n",
    "initial_b = 0\n",
    "iterations = 50000\n",
    "alpha = 0.0007\n",
    "w_final, b_final, J_hist = gradient_descent(X_norm, y_train, initial_w, initial_b, compute_cost, compute_gradient, alpha, iterations)\n",
    "b_final = float(b_final)\n",
    "print(f\"b,w found by gradient descent: {b_final:0.2f}, {w_final}\")\n",
    "m,_ = X_norm.shape\n",
    "for i in range(m):\n",
    "    print(f\"prediction: {np.dot(X_norm[i], w_final) + b_final:0.2f}, target value: {y_train[i]}\")"
   ]
  },
  {
   "cell_type": "code",
   "execution_count": 49,
   "metadata": {},
   "outputs": [],
   "source": [
    "def predict(x,w,b):\n",
    "    p = np.dot(x,w)+b\n",
    "    return p"
   ]
  },
  {
   "cell_type": "code",
   "execution_count": null,
   "metadata": {},
   "outputs": [],
   "source": []
  }
 ],
 "metadata": {
  "kernelspec": {
   "display_name": "Python 3",
   "language": "python",
   "name": "python3"
  },
  "language_info": {
   "codemirror_mode": {
    "name": "ipython",
    "version": 3
   },
   "file_extension": ".py",
   "mimetype": "text/x-python",
   "name": "python",
   "nbconvert_exporter": "python",
   "pygments_lexer": "ipython3",
   "version": "3.10.12"
  }
 },
 "nbformat": 4,
 "nbformat_minor": 2
}
